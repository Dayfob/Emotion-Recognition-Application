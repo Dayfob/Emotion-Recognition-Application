{
 "cells": [
  {
   "cell_type": "code",
   "id": "initial_id",
   "metadata": {
    "collapsed": true,
    "ExecuteTime": {
     "end_time": "2024-08-13T03:30:13.590129Z",
     "start_time": "2024-08-13T03:30:13.585282Z"
    }
   },
   "source": [
    "from sklearn.neighbors import KNeighborsClassifier\n",
    "from sklearn.model_selection import train_test_split\n",
    "from sklearn import metrics\n",
    "import pandas as pd\n",
    "import time"
   ],
   "outputs": [],
   "execution_count": 6
  },
  {
   "metadata": {
    "ExecuteTime": {
     "end_time": "2024-08-13T03:30:15.059271Z",
     "start_time": "2024-08-13T03:30:14.434734Z"
    }
   },
   "cell_type": "code",
   "source": [
    "# Load the data\n",
    "df = pd.read_csv('datasets/dataset_L.csv')\n",
    "\n",
    "# Separate features and labels\n",
    "X = df.iloc[:, :-7].values  # First 170 columns as features\n",
    "y = df.iloc[:, -7:].values  # Last 7 columns as labels\n",
    "\n",
    "features_train, features_test, labels_train, labels_test = train_test_split(\n",
    "    X, y, test_size=0.2, random_state=1234\n",
    ")"
   ],
   "id": "a2afeb797789ea90",
   "outputs": [],
   "execution_count": 7
  },
  {
   "metadata": {
    "ExecuteTime": {
     "end_time": "2024-08-13T03:41:44.462221Z",
     "start_time": "2024-08-13T03:41:44.459527Z"
    }
   },
   "cell_type": "code",
   "source": "model = KNeighborsClassifier()",
   "id": "e44eea930e0c9488",
   "outputs": [],
   "execution_count": 25
  },
  {
   "metadata": {
    "ExecuteTime": {
     "end_time": "2024-08-13T03:41:45.855391Z",
     "start_time": "2024-08-13T03:41:45.839967Z"
    }
   },
   "cell_type": "code",
   "source": [
    "start = time.time()\n",
    "model.fit(features_train, labels_train)\n",
    "stop = time.time()\n",
    "\n",
    "print(f\"train_time = {stop - start}\")"
   ],
   "id": "19c99f4ea978095c",
   "outputs": [
    {
     "name": "stdout",
     "output_type": "stream",
     "text": [
      "train_time = 0.011009931564331055\n"
     ]
    }
   ],
   "execution_count": 26
  },
  {
   "metadata": {
    "ExecuteTime": {
     "end_time": "2024-08-13T03:42:11.904807Z",
     "start_time": "2024-08-13T03:42:07.437466Z"
    }
   },
   "cell_type": "code",
   "source": [
    "features = features_train\n",
    "labels = labels_train\n",
    "\n",
    "start = time.time()\n",
    "predictions = model.predict(features)\n",
    "stop = time.time()\n",
    "\n",
    "loss_function = metrics.log_loss(labels, predictions)\n",
    "f1_score = metrics.f1_score(labels, predictions, average=None)\n",
    "accuracy_rate = metrics.accuracy_score(labels, predictions)\n",
    "precision = metrics.precision_score(labels, predictions, average=None)\n",
    "recall = metrics.recall_score(labels, predictions, average=None)\n",
    "roc_auc = metrics.roc_auc_score(labels, predictions)\n",
    "\n",
    "print(f\"predict_time = {stop - start}\")\n",
    "print(f\"loss_function = {loss_function}\")\n",
    "print(f\"f1_score = {f1_score}\")\n",
    "print(f\"accuracy_rate = {accuracy_rate}\")\n",
    "print(f\"precision = {precision}\")\n",
    "print(f\"recall = {recall}\")\n",
    "print(f\"roc_auc = {roc_auc}\")"
   ],
   "id": "df8d5b7d579db2f3",
   "outputs": [
    {
     "name": "stdout",
     "output_type": "stream",
     "text": [
      "predict_time = 4.403851509094238\n",
      "loss_function = 5.12918556827053\n",
      "f1_score = [0.52235485 0.4275969  0.3566275  0.37572628 0.47668215 0.5632587\n",
      " 0.75605105]\n",
      "accuracy_rate = 0.38269843012405313\n",
      "precision = [0.82703395 0.70178117 0.76820604 0.74935622 0.78603859 0.73006993\n",
      " 0.81370382]\n",
      "recall = [0.38172679 0.30746934 0.23221477 0.25071798 0.34205977 0.45849802\n",
      " 0.7060274 ]\n",
      "roc_auc = 0.6816761105297121\n"
     ]
    }
   ],
   "execution_count": 28
  },
  {
   "metadata": {
    "ExecuteTime": {
     "end_time": "2024-08-13T03:32:06.446659Z",
     "start_time": "2024-08-13T03:32:06.409539Z"
    }
   },
   "cell_type": "code",
   "source": [
    "import pickle\n",
    "\n",
    "with open('model/model_KNN_L.pkl', 'wb') as f:\n",
    "    pickle.dump(model, f)"
   ],
   "id": "19f45c06997dbf87",
   "outputs": [],
   "execution_count": 12
  },
  {
   "metadata": {},
   "cell_type": "code",
   "outputs": [],
   "execution_count": null,
   "source": "",
   "id": "6669fb2d83c7921f"
  }
 ],
 "metadata": {
  "kernelspec": {
   "display_name": "Python 3",
   "language": "python",
   "name": "python3"
  },
  "language_info": {
   "codemirror_mode": {
    "name": "ipython",
    "version": 2
   },
   "file_extension": ".py",
   "mimetype": "text/x-python",
   "name": "python",
   "nbconvert_exporter": "python",
   "pygments_lexer": "ipython2",
   "version": "2.7.6"
  }
 },
 "nbformat": 4,
 "nbformat_minor": 5
}
