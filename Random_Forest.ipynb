{
 "cells": [
  {
   "metadata": {
    "ExecuteTime": {
     "end_time": "2024-08-21T23:46:01.836896Z",
     "start_time": "2024-08-21T23:46:01.267710Z"
    }
   },
   "cell_type": "code",
   "source": [
    "from sklearn.model_selection import train_test_split\n",
    "import pandas as pd\n",
    "\n",
    "data_set = pd.read_csv('datasets/dataset_L.csv')\n",
    "\n",
    "features = data_set.iloc[:, :-7].values\n",
    "labels = data_set.iloc[:, -7:].values\n",
    "\n",
    "features_train, features_test, labels_train, labels_test = train_test_split(\n",
    "    features, labels, test_size=0.2, random_state=1234\n",
    ")"
   ],
   "id": "b479e16c327b3ef6",
   "outputs": [],
   "execution_count": 4
  },
  {
   "metadata": {},
   "cell_type": "markdown",
   "source": "## Random Forest",
   "id": "450488f6180c2c40"
  },
  {
   "metadata": {
    "ExecuteTime": {
     "end_time": "2024-08-11T02:08:48.371815Z",
     "start_time": "2024-08-11T02:03:08.476480Z"
    }
   },
   "cell_type": "code",
   "source": [
    "from sklearn.ensemble import RandomForestClassifier\n",
    "from sklearn import metrics\n",
    "import time\n",
    "import pickle\n",
    "\n",
    "skit_model_rf = RandomForestClassifier(n_estimators=1000)\n",
    "\n",
    "start = time.time()\n",
    "skit_model_rf.fit(features_train, labels_train)\n",
    "stop = time.time()\n",
    "skit_model_rf_time = stop - start\n",
    "\n",
    "with open('model/model_rf_L.pkl', 'wb') as f:\n",
    "    pickle.dump(skit_model_rf, f)\n",
    "\n",
    "print(f\"train_time = {skit_model_rf_time}\")"
   ],
   "id": "9b2413faedec7afd",
   "outputs": [
    {
     "name": "stdout",
     "output_type": "stream",
     "text": [
      "train_time = 338.6404082775116\n"
     ]
    }
   ],
   "execution_count": 4
  },
  {
   "metadata": {
    "ExecuteTime": {
     "end_time": "2024-08-11T02:12:25.579110Z",
     "start_time": "2024-08-11T02:12:23.051709Z"
    }
   },
   "cell_type": "code",
   "source": [
    "with open('model/model_rf_L.pkl', 'rb') as f:\n",
    "    skit_model_rf = pickle.load(f)\n",
    "\n",
    "start = time.time()\n",
    "predictions = skit_model_rf.predict(features_test)\n",
    "stop = time.time()\n",
    "\n",
    "loss_function = metrics.log_loss(labels_test, predictions)\n",
    "f1_score = metrics.f1_score(labels_test, predictions, average=None)\n",
    "accuracy_rate = metrics.accuracy_score(labels_test, predictions)\n",
    "precision = metrics.precision_score(labels_test, predictions, average=None)\n",
    "recall = metrics.recall_score(labels_test, predictions, average=None)\n",
    "roc_auc = metrics.roc_auc_score(labels_test, predictions)\n",
    "\n",
    "print(f\"predict_time = {stop - start}\")\n",
    "print(f\"loss_function = {loss_function}\")\n",
    "print(f\"f1_score = {f1_score}\")\n",
    "print(f\"accuracy_rate = {accuracy_rate}\")\n",
    "print(f\"precision = {precision}\")\n",
    "print(f\"recall = {recall}\")\n",
    "print(f\"roc_auc = {roc_auc}\")"
   ],
   "id": "f2f56227ec885059",
   "outputs": [
    {
     "name": "stdout",
     "output_type": "stream",
     "text": [
      "predict_time = 1.1741540431976318\n",
      "loss_function = 25.42892408307152\n",
      "f1_score = [0.53896104 0.20806452 0.29380531 0.23578077 0.33412136 0.47398119\n",
      " 0.83507051]\n",
      "accuracy_rate = 0.29449648711943793\n",
      "precision = [0.83       0.99230769 1.         0.99130435 0.97247706 0.74263261\n",
      " 0.98126801]\n",
      "recall = [0.39903846 0.11621622 0.17219917 0.13380282 0.20171265 0.3480663\n",
      " 0.72678762]\n",
      "roc_auc = 0.6471504504576286\n"
     ]
    },
    {
     "name": "stderr",
     "output_type": "stream",
     "text": [
      "C:\\Users\\semem\\AppData\\Local\\Programs\\Python\\Python312\\Lib\\site-packages\\sklearn\\metrics\\_classification.py:2956: UserWarning: The y_pred values do not sum to one. Make sure to pass probabilities.\n",
      "  warnings.warn(\n"
     ]
    }
   ],
   "execution_count": 6
  },
  {
   "metadata": {
    "ExecuteTime": {
     "end_time": "2024-08-21T23:46:05.002627Z",
     "start_time": "2024-08-21T23:46:04.983798Z"
    }
   },
   "cell_type": "code",
   "source": [
    "from sklearn.ensemble import RandomForestClassifier\n",
    "from sklearn import metrics\n",
    "import time\n",
    "import pickle\n",
    "\n",
    "with open('model/model_rf_L.pkl', 'rb') as f:\n",
    "    skit_model_rf = pickle.load(f)\n",
    "\n",
    "start = time.time()\n",
    "predictions = skit_model_rf.predict(features_train)\n",
    "stop = time.time()\n",
    "\n",
    "loss_function = metrics.log_loss(labels_train, predictions)\n",
    "f1_score = metrics.f1_score(labels_train, predictions, average=None)\n",
    "accuracy_rate = metrics.accuracy_score(labels_train, predictions)\n",
    "precision = metrics.precision_score(labels_train, predictions, average=None)\n",
    "recall = metrics.recall_score(labels_train, predictions, average=None)\n",
    "roc_auc = metrics.roc_auc_score(labels_train, predictions)\n",
    "\n",
    "print(f\"predict_time = {stop - start}\")\n",
    "print(f\"loss_function = {loss_function}\")\n",
    "print(f\"f1_score = {f1_score}\")\n",
    "print(f\"accuracy_rate = {accuracy_rate}\")\n",
    "print(f\"precision = {precision}\")\n",
    "print(f\"recall = {recall}\")\n",
    "print(f\"roc_auc = {roc_auc}\")"
   ],
   "id": "9c13666299c2e28e",
   "outputs": [
    {
     "name": "stderr",
     "output_type": "stream",
     "text": [
      "C:\\IT\\anaconda3\\Lib\\site-packages\\sklearn\\base.py:318: UserWarning: Trying to unpickle estimator DecisionTreeClassifier from version 1.5.1 when using version 1.2.2. This might lead to breaking code or invalid results. Use at your own risk. For more info please refer to:\n",
      "https://scikit-learn.org/stable/model_persistence.html#security-maintainability-limitations\n",
      "  warnings.warn(\n"
     ]
    },
    {
     "ename": "ValueError",
     "evalue": "node array from the pickle has an incompatible dtype:\n- expected: [('left_child', '<i8'), ('right_child', '<i8'), ('feature', '<i8'), ('threshold', '<f8'), ('impurity', '<f8'), ('n_node_samples', '<i8'), ('weighted_n_node_samples', '<f8')]\n- got     : {'names': ['left_child', 'right_child', 'feature', 'threshold', 'impurity', 'n_node_samples', 'weighted_n_node_samples', 'missing_go_to_left'], 'formats': ['<i8', '<i8', '<i8', '<f8', '<f8', '<i8', '<f8', 'u1'], 'offsets': [0, 8, 16, 24, 32, 40, 48, 56], 'itemsize': 64}",
     "output_type": "error",
     "traceback": [
      "\u001B[1;31m---------------------------------------------------------------------------\u001B[0m",
      "\u001B[1;31mValueError\u001B[0m                                Traceback (most recent call last)",
      "Cell \u001B[1;32mIn[5], line 7\u001B[0m\n\u001B[0;32m      4\u001B[0m \u001B[38;5;28;01mimport\u001B[39;00m \u001B[38;5;21;01mpickle\u001B[39;00m\n\u001B[0;32m      6\u001B[0m \u001B[38;5;28;01mwith\u001B[39;00m \u001B[38;5;28mopen\u001B[39m(\u001B[38;5;124m'\u001B[39m\u001B[38;5;124mmodel/model_rf_L.pkl\u001B[39m\u001B[38;5;124m'\u001B[39m, \u001B[38;5;124m'\u001B[39m\u001B[38;5;124mrb\u001B[39m\u001B[38;5;124m'\u001B[39m) \u001B[38;5;28;01mas\u001B[39;00m f:\n\u001B[1;32m----> 7\u001B[0m     skit_model_rf \u001B[38;5;241m=\u001B[39m pickle\u001B[38;5;241m.\u001B[39mload(f)\n\u001B[0;32m      9\u001B[0m start \u001B[38;5;241m=\u001B[39m time\u001B[38;5;241m.\u001B[39mtime()\n\u001B[0;32m     10\u001B[0m predictions \u001B[38;5;241m=\u001B[39m skit_model_rf\u001B[38;5;241m.\u001B[39mpredict(features_train)\n",
      "File \u001B[1;32msklearn\\tree\\_tree.pyx:676\u001B[0m, in \u001B[0;36msklearn.tree._tree.Tree.__setstate__\u001B[1;34m()\u001B[0m\n",
      "File \u001B[1;32msklearn\\tree\\_tree.pyx:1364\u001B[0m, in \u001B[0;36msklearn.tree._tree._check_node_ndarray\u001B[1;34m()\u001B[0m\n",
      "\u001B[1;31mValueError\u001B[0m: node array from the pickle has an incompatible dtype:\n- expected: [('left_child', '<i8'), ('right_child', '<i8'), ('feature', '<i8'), ('threshold', '<f8'), ('impurity', '<f8'), ('n_node_samples', '<i8'), ('weighted_n_node_samples', '<f8')]\n- got     : {'names': ['left_child', 'right_child', 'feature', 'threshold', 'impurity', 'n_node_samples', 'weighted_n_node_samples', 'missing_go_to_left'], 'formats': ['<i8', '<i8', '<i8', '<f8', '<f8', '<i8', '<f8', 'u1'], 'offsets': [0, 8, 16, 24, 32, 40, 48, 56], 'itemsize': 64}"
     ]
    }
   ],
   "execution_count": 5
  },
  {
   "metadata": {},
   "cell_type": "code",
   "outputs": [],
   "execution_count": null,
   "source": "",
   "id": "98aaedfa5224d315"
  }
 ],
 "metadata": {
  "kernelspec": {
   "display_name": "Python 3",
   "language": "python",
   "name": "python3"
  },
  "language_info": {
   "codemirror_mode": {
    "name": "ipython",
    "version": 2
   },
   "file_extension": ".py",
   "mimetype": "text/x-python",
   "name": "python",
   "nbconvert_exporter": "python",
   "pygments_lexer": "ipython2",
   "version": "2.7.6"
  }
 },
 "nbformat": 4,
 "nbformat_minor": 5
}
