{
 "cells": [
  {
   "metadata": {
    "ExecuteTime": {
     "end_time": "2024-08-09T01:20:04.558449Z",
     "start_time": "2024-08-09T01:20:03.193794Z"
    }
   },
   "cell_type": "code",
   "source": [
    "from sklearn.model_selection import train_test_split\n",
    "import pandas as pd\n",
    "\n",
    "data_set = pd.read_csv('datasets/dataset.csv')\n",
    "\n",
    "features = data_set.iloc[:, :-7].values\n",
    "labels = data_set.iloc[:, -7:].values\n",
    "\n",
    "features_train, features_test, labels_train, labels_test = train_test_split(\n",
    "    features, labels, test_size=0.2, random_state=1234\n",
    ")"
   ],
   "id": "b479e16c327b3ef6",
   "outputs": [],
   "execution_count": 1
  },
  {
   "metadata": {},
   "cell_type": "markdown",
   "source": "## Random Forest",
   "id": "450488f6180c2c40"
  },
  {
   "metadata": {
    "ExecuteTime": {
     "end_time": "2024-08-09T01:28:45.522693Z",
     "start_time": "2024-08-09T01:20:22.648985Z"
    }
   },
   "cell_type": "code",
   "source": [
    "from sklearn.ensemble import RandomForestClassifier\n",
    "from sklearn import metrics\n",
    "import time\n",
    "import pickle\n",
    "\n",
    "skit_model_rf = RandomForestClassifier(n_estimators=1000)\n",
    "\n",
    "start = time.time()\n",
    "skit_model_rf.fit(features_train, labels_train)\n",
    "stop = time.time()\n",
    "skit_model_rf_time = stop - start\n",
    "\n",
    "with open('model/model_rf.pkl', 'wb') as f:\n",
    "    pickle.dump(skit_model_rf, f)\n",
    "\n",
    "print(f\"train_time = {skit_model_rf_time}\")"
   ],
   "id": "9b2413faedec7afd",
   "outputs": [
    {
     "name": "stdout",
     "output_type": "stream",
     "text": [
      "train_time = 500.9301471710205\n"
     ]
    }
   ],
   "execution_count": 2
  },
  {
   "metadata": {
    "ExecuteTime": {
     "end_time": "2024-08-09T01:28:55.423851Z",
     "start_time": "2024-08-09T01:28:50.945469Z"
    }
   },
   "cell_type": "code",
   "source": [
    "with open('model/model_rf.pkl', 'rb') as f:\n",
    "    skit_model_rf = pickle.load(f)\n",
    "\n",
    "start = time.time()\n",
    "predictions = skit_model_rf.predict(features_test)\n",
    "stop = time.time()\n",
    "\n",
    "loss_function = metrics.log_loss(labels_test, predictions)\n",
    "f1_score = metrics.f1_score(labels_test, predictions, average=None)\n",
    "accuracy_rate = metrics.accuracy_score(labels_test, predictions)\n",
    "precision = metrics.precision_score(labels_test, predictions, average=None)\n",
    "recall = metrics.recall_score(labels_test, predictions, average=None)\n",
    "roc_auc = metrics.roc_auc_score(labels_test, predictions)\n",
    "\n",
    "print(f\"predict_time = {stop - start}\")\n",
    "print(f\"loss_function = {loss_function}\")\n",
    "print(f\"f1_score = {f1_score}\")\n",
    "print(f\"accuracy_rate = {accuracy_rate}\")\n",
    "print(f\"precision = {precision}\")\n",
    "print(f\"recall = {recall}\")\n",
    "print(f\"roc_auc = {roc_auc}\")"
   ],
   "id": "f2f56227ec885059",
   "outputs": [
    {
     "name": "stdout",
     "output_type": "stream",
     "text": [
      "predict_time = 2.823350429534912\n",
      "loss_function = 2.296082006903532\n",
      "f1_score = [0.53385417 0.21085859 0.22528736 0.272361   0.37181045 0.47600768\n",
      " 0.83378016]\n",
      "accuracy_rate = 0.2997946611909651\n",
      "precision = [0.86134454 0.99404762 0.99324324 1.         0.96529968 0.78481013\n",
      " 0.97390397]\n",
      "recall = [0.38679245 0.11793785 0.12705272 0.15764925 0.23024831 0.3415978\n",
      " 0.72890625]\n",
      "roc_auc = 0.6469956620232302\n"
     ]
    }
   ],
   "execution_count": 3
  }
 ],
 "metadata": {
  "kernelspec": {
   "display_name": "Python 3",
   "language": "python",
   "name": "python3"
  },
  "language_info": {
   "codemirror_mode": {
    "name": "ipython",
    "version": 2
   },
   "file_extension": ".py",
   "mimetype": "text/x-python",
   "name": "python",
   "nbconvert_exporter": "python",
   "pygments_lexer": "ipython2",
   "version": "2.7.6"
  }
 },
 "nbformat": 4,
 "nbformat_minor": 5
}
